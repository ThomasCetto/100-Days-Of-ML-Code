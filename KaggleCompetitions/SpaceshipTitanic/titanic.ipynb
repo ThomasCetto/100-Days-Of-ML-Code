{
 "cells": [
  {
   "cell_type": "code",
   "execution_count": 14,
   "metadata": {},
   "outputs": [],
   "source": [
    "import numpy as np\n",
    "import pandas as pd\n",
    "from sklearn.linear_model import LogisticRegression\n",
    "from sklearn.preprocessing import LabelEncoder\n",
    "from sklearn.model_selection import train_test_split\n",
    "from sklearn.metrics import confusion_matrix, classification_report\n",
    "from sklearn.ensemble import HistGradientBoostingClassifier"
   ]
  },
  {
   "cell_type": "code",
   "execution_count": 15,
   "metadata": {},
   "outputs": [
    {
     "data": {
      "text/html": [
       "<div>\n",
       "<style scoped>\n",
       "    .dataframe tbody tr th:only-of-type {\n",
       "        vertical-align: middle;\n",
       "    }\n",
       "\n",
       "    .dataframe tbody tr th {\n",
       "        vertical-align: top;\n",
       "    }\n",
       "\n",
       "    .dataframe thead th {\n",
       "        text-align: right;\n",
       "    }\n",
       "</style>\n",
       "<table border=\"1\" class=\"dataframe\">\n",
       "  <thead>\n",
       "    <tr style=\"text-align: right;\">\n",
       "      <th></th>\n",
       "      <th>PassengerId</th>\n",
       "      <th>HomePlanet</th>\n",
       "      <th>CryoSleep</th>\n",
       "      <th>Cabin</th>\n",
       "      <th>Destination</th>\n",
       "      <th>Age</th>\n",
       "      <th>VIP</th>\n",
       "      <th>RoomService</th>\n",
       "      <th>FoodCourt</th>\n",
       "      <th>ShoppingMall</th>\n",
       "      <th>Spa</th>\n",
       "      <th>VRDeck</th>\n",
       "      <th>Transported</th>\n",
       "    </tr>\n",
       "  </thead>\n",
       "  <tbody>\n",
       "    <tr>\n",
       "      <th>0</th>\n",
       "      <td>0</td>\n",
       "      <td>1</td>\n",
       "      <td>False</td>\n",
       "      <td>149</td>\n",
       "      <td>2</td>\n",
       "      <td>39.0</td>\n",
       "      <td>False</td>\n",
       "      <td>0.0</td>\n",
       "      <td>0.0</td>\n",
       "      <td>0.0</td>\n",
       "      <td>0.0</td>\n",
       "      <td>0.0</td>\n",
       "      <td>False</td>\n",
       "    </tr>\n",
       "    <tr>\n",
       "      <th>1</th>\n",
       "      <td>1</td>\n",
       "      <td>0</td>\n",
       "      <td>False</td>\n",
       "      <td>2184</td>\n",
       "      <td>2</td>\n",
       "      <td>24.0</td>\n",
       "      <td>False</td>\n",
       "      <td>109.0</td>\n",
       "      <td>9.0</td>\n",
       "      <td>25.0</td>\n",
       "      <td>549.0</td>\n",
       "      <td>44.0</td>\n",
       "      <td>True</td>\n",
       "    </tr>\n",
       "    <tr>\n",
       "      <th>2</th>\n",
       "      <td>2</td>\n",
       "      <td>1</td>\n",
       "      <td>False</td>\n",
       "      <td>1</td>\n",
       "      <td>2</td>\n",
       "      <td>58.0</td>\n",
       "      <td>True</td>\n",
       "      <td>43.0</td>\n",
       "      <td>3576.0</td>\n",
       "      <td>0.0</td>\n",
       "      <td>6715.0</td>\n",
       "      <td>49.0</td>\n",
       "      <td>False</td>\n",
       "    </tr>\n",
       "    <tr>\n",
       "      <th>3</th>\n",
       "      <td>3</td>\n",
       "      <td>1</td>\n",
       "      <td>False</td>\n",
       "      <td>1</td>\n",
       "      <td>2</td>\n",
       "      <td>33.0</td>\n",
       "      <td>False</td>\n",
       "      <td>0.0</td>\n",
       "      <td>1283.0</td>\n",
       "      <td>371.0</td>\n",
       "      <td>3329.0</td>\n",
       "      <td>193.0</td>\n",
       "      <td>False</td>\n",
       "    </tr>\n",
       "    <tr>\n",
       "      <th>4</th>\n",
       "      <td>4</td>\n",
       "      <td>0</td>\n",
       "      <td>False</td>\n",
       "      <td>2186</td>\n",
       "      <td>2</td>\n",
       "      <td>16.0</td>\n",
       "      <td>False</td>\n",
       "      <td>303.0</td>\n",
       "      <td>70.0</td>\n",
       "      <td>151.0</td>\n",
       "      <td>565.0</td>\n",
       "      <td>2.0</td>\n",
       "      <td>True</td>\n",
       "    </tr>\n",
       "  </tbody>\n",
       "</table>\n",
       "</div>"
      ],
      "text/plain": [
       "   PassengerId  HomePlanet CryoSleep  Cabin  Destination   Age    VIP  \\\n",
       "0            0           1     False    149            2  39.0  False   \n",
       "1            1           0     False   2184            2  24.0  False   \n",
       "2            2           1     False      1            2  58.0   True   \n",
       "3            3           1     False      1            2  33.0  False   \n",
       "4            4           0     False   2186            2  16.0  False   \n",
       "\n",
       "   RoomService  FoodCourt  ShoppingMall     Spa  VRDeck  Transported  \n",
       "0          0.0        0.0           0.0     0.0     0.0        False  \n",
       "1        109.0        9.0          25.0   549.0    44.0         True  \n",
       "2         43.0     3576.0           0.0  6715.0    49.0        False  \n",
       "3          0.0     1283.0         371.0  3329.0   193.0        False  \n",
       "4        303.0       70.0         151.0   565.0     2.0         True  "
      ]
     },
     "execution_count": 15,
     "metadata": {},
     "output_type": "execute_result"
    }
   ],
   "source": [
    "original_train = pd.read_csv(\"train.csv\").drop(\"Name\", axis=1)\n",
    "original_test = pd.read_csv(\"test.csv\").drop(\"Name\", axis=1)\n",
    "\n",
    "train = original_train.copy()\n",
    "test = original_test.copy()\n",
    "\n",
    "le = LabelEncoder()\n",
    "train[\"PassengerId\"] = le.fit_transform(train[\"PassengerId\"])\n",
    "train[\"HomePlanet\"] = le.fit_transform(train[\"HomePlanet\"])\n",
    "train[\"Cabin\"] = le.fit_transform(train[\"Cabin\"])\n",
    "train[\"Destination\"] = le.fit_transform(train[\"Destination\"])\n",
    "\n",
    "test[\"PassengerId\"] = le.fit_transform(test[\"PassengerId\"])\n",
    "test[\"HomePlanet\"] = le.fit_transform(test[\"HomePlanet\"])\n",
    "test[\"Cabin\"] = le.fit_transform(test[\"Cabin\"])\n",
    "test[\"Destination\"] = le.fit_transform(test[\"Destination\"])\n",
    "train.head()\n"
   ]
  },
  {
   "cell_type": "code",
   "execution_count": 5,
   "metadata": {},
   "outputs": [
    {
     "name": "stdout",
     "output_type": "stream",
     "text": [
      "|   iter    |  target   | learni... | max_depth | max_le... | min_sa... |\n",
      "-------------------------------------------------------------------------\n",
      "| \u001b[0m1        \u001b[0m | \u001b[0m0.7168   \u001b[0m | \u001b[0m0.03808  \u001b[0m | \u001b[0m9.606    \u001b[0m | \u001b[0m73.74    \u001b[0m | \u001b[0m6.388    \u001b[0m |\n",
      "| \u001b[95m2        \u001b[0m | \u001b[95m0.7789   \u001b[0m | \u001b[95m0.01645  \u001b[0m | \u001b[95m3.248    \u001b[0m | \u001b[95m7.692    \u001b[0m | \u001b[95m8.796    \u001b[0m |\n",
      "| \u001b[0m3        \u001b[0m | \u001b[0m0.7279   \u001b[0m | \u001b[0m0.06051  \u001b[0m | \u001b[0m7.665    \u001b[0m | \u001b[0m4.017    \u001b[0m | \u001b[0m9.729    \u001b[0m |\n",
      "| \u001b[0m4        \u001b[0m | \u001b[0m0.6838   \u001b[0m | \u001b[0m0.08341  \u001b[0m | \u001b[0m3.699    \u001b[0m | \u001b[0m19.82    \u001b[0m | \u001b[0m2.651    \u001b[0m |\n",
      "| \u001b[0m5        \u001b[0m | \u001b[0m0.7208   \u001b[0m | \u001b[0m0.03112  \u001b[0m | \u001b[0m6.198    \u001b[0m | \u001b[0m44.33    \u001b[0m | \u001b[0m3.621    \u001b[0m |\n",
      "| \u001b[0m6        \u001b[0m | \u001b[0m0.7316   \u001b[0m | \u001b[0m0.07732  \u001b[0m | \u001b[0m2.853    \u001b[0m | \u001b[0m9.364    \u001b[0m | \u001b[0m7.554    \u001b[0m |\n",
      "| \u001b[95m7        \u001b[0m | \u001b[95m0.7856   \u001b[0m | \u001b[95m0.01169  \u001b[0m | \u001b[95m4.06     \u001b[0m | \u001b[95m7.657    \u001b[0m | \u001b[95m9.266    \u001b[0m |\n",
      "| \u001b[0m8        \u001b[0m | \u001b[0m0.7763   \u001b[0m | \u001b[0m0.01732  \u001b[0m | \u001b[0m3.816    \u001b[0m | \u001b[0m5.574    \u001b[0m | \u001b[0m9.108    \u001b[0m |\n",
      "| \u001b[0m9        \u001b[0m | \u001b[0m0.7206   \u001b[0m | \u001b[0m0.04301  \u001b[0m | \u001b[0m8.022    \u001b[0m | \u001b[0m9.664    \u001b[0m | \u001b[0m9.925    \u001b[0m |\n",
      "| \u001b[0m10       \u001b[0m | \u001b[0m0.7663   \u001b[0m | \u001b[0m0.001    \u001b[0m | \u001b[0m5.018    \u001b[0m | \u001b[0m6.308    \u001b[0m | \u001b[0m6.681    \u001b[0m |\n",
      "=========================================================================\n",
      "{'target': 0.7855777330595537, 'params': {'learning_rate': 0.011693596212453231, 'max_depth': 4.059768835326959, 'max_leaf_nodes': 7.657346552149326, 'min_samples_leaf': 9.265827460267811}}\n"
     ]
    }
   ],
   "source": [
    "from sklearn.experimental import enable_hist_gradient_boosting\n",
    "from sklearn.ensemble import HistGradientBoostingClassifier\n",
    "from sklearn.model_selection import cross_val_score\n",
    "from bayes_opt import BayesianOptimization\n",
    "\n",
    "\n",
    "# Define the objective function to be maximized\n",
    "def hgb_cv(learning_rate, max_depth, max_leaf_nodes, min_samples_leaf):\n",
    "    # Define the HistGradientBoostingClassifier with the given hyperparameters\n",
    "    clf = HistGradientBoostingClassifier(learning_rate=learning_rate,\n",
    "                                          max_depth=int(max_depth),\n",
    "                                          max_leaf_nodes=int(max_leaf_nodes),\n",
    "                                          min_samples_leaf=int(min_samples_leaf),\n",
    "                                          random_state=42)\n",
    "\n",
    "    # Calculate cross-validation scores for the classifier\n",
    "    scores = cross_val_score(clf, train.drop(\"Transported\", axis=1), train[\"Transported\"], cv=5, scoring='accuracy')\n",
    "\n",
    "    # Return the mean cross-validation score\n",
    "    return scores.mean()\n",
    "\n",
    "# Define the hyperparameters and their respective ranges for Bayesian optimization\n",
    "pbounds = {'learning_rate': (0.001, 0.1),\n",
    "           'max_depth': (2, 10),\n",
    "           'max_leaf_nodes': (2, 100),\n",
    "           'min_samples_leaf': (1, 10)}\n",
    "\n",
    "# Initialize the Bayesian optimizer with the objective function and hyperparameter ranges\n",
    "optimizer = BayesianOptimization(f=hgb_cv, pbounds=pbounds, random_state=42)\n",
    "\n",
    "# Run the Bayesian optimizer for 10 iterations\n",
    "optimizer.maximize(init_points=5, n_iter=5)\n",
    "\n",
    "# Print the optimal hyperparameters and corresponding score\n",
    "print(optimizer.max)\n"
   ]
  },
  {
   "cell_type": "code",
   "execution_count": 6,
   "metadata": {},
   "outputs": [],
   "source": [
    "\n",
    "X = train.drop(\"Transported\", axis=1)\n",
    "y = train[\"Transported\"]\n",
    "\n",
    "X_train, X_test, y_train, y_test = train_test_split(X, y)\n",
    "\n"
   ]
  },
  {
   "cell_type": "code",
   "execution_count": 7,
   "metadata": {},
   "outputs": [
    {
     "data": {
      "text/html": [
       "<style>#sk-container-id-1 {color: black;background-color: white;}#sk-container-id-1 pre{padding: 0;}#sk-container-id-1 div.sk-toggleable {background-color: white;}#sk-container-id-1 label.sk-toggleable__label {cursor: pointer;display: block;width: 100%;margin-bottom: 0;padding: 0.3em;box-sizing: border-box;text-align: center;}#sk-container-id-1 label.sk-toggleable__label-arrow:before {content: \"▸\";float: left;margin-right: 0.25em;color: #696969;}#sk-container-id-1 label.sk-toggleable__label-arrow:hover:before {color: black;}#sk-container-id-1 div.sk-estimator:hover label.sk-toggleable__label-arrow:before {color: black;}#sk-container-id-1 div.sk-toggleable__content {max-height: 0;max-width: 0;overflow: hidden;text-align: left;background-color: #f0f8ff;}#sk-container-id-1 div.sk-toggleable__content pre {margin: 0.2em;color: black;border-radius: 0.25em;background-color: #f0f8ff;}#sk-container-id-1 input.sk-toggleable__control:checked~div.sk-toggleable__content {max-height: 200px;max-width: 100%;overflow: auto;}#sk-container-id-1 input.sk-toggleable__control:checked~label.sk-toggleable__label-arrow:before {content: \"▾\";}#sk-container-id-1 div.sk-estimator input.sk-toggleable__control:checked~label.sk-toggleable__label {background-color: #d4ebff;}#sk-container-id-1 div.sk-label input.sk-toggleable__control:checked~label.sk-toggleable__label {background-color: #d4ebff;}#sk-container-id-1 input.sk-hidden--visually {border: 0;clip: rect(1px 1px 1px 1px);clip: rect(1px, 1px, 1px, 1px);height: 1px;margin: -1px;overflow: hidden;padding: 0;position: absolute;width: 1px;}#sk-container-id-1 div.sk-estimator {font-family: monospace;background-color: #f0f8ff;border: 1px dotted black;border-radius: 0.25em;box-sizing: border-box;margin-bottom: 0.5em;}#sk-container-id-1 div.sk-estimator:hover {background-color: #d4ebff;}#sk-container-id-1 div.sk-parallel-item::after {content: \"\";width: 100%;border-bottom: 1px solid gray;flex-grow: 1;}#sk-container-id-1 div.sk-label:hover label.sk-toggleable__label {background-color: #d4ebff;}#sk-container-id-1 div.sk-serial::before {content: \"\";position: absolute;border-left: 1px solid gray;box-sizing: border-box;top: 0;bottom: 0;left: 50%;z-index: 0;}#sk-container-id-1 div.sk-serial {display: flex;flex-direction: column;align-items: center;background-color: white;padding-right: 0.2em;padding-left: 0.2em;position: relative;}#sk-container-id-1 div.sk-item {position: relative;z-index: 1;}#sk-container-id-1 div.sk-parallel {display: flex;align-items: stretch;justify-content: center;background-color: white;position: relative;}#sk-container-id-1 div.sk-item::before, #sk-container-id-1 div.sk-parallel-item::before {content: \"\";position: absolute;border-left: 1px solid gray;box-sizing: border-box;top: 0;bottom: 0;left: 50%;z-index: -1;}#sk-container-id-1 div.sk-parallel-item {display: flex;flex-direction: column;z-index: 1;position: relative;background-color: white;}#sk-container-id-1 div.sk-parallel-item:first-child::after {align-self: flex-end;width: 50%;}#sk-container-id-1 div.sk-parallel-item:last-child::after {align-self: flex-start;width: 50%;}#sk-container-id-1 div.sk-parallel-item:only-child::after {width: 0;}#sk-container-id-1 div.sk-dashed-wrapped {border: 1px dashed gray;margin: 0 0.4em 0.5em 0.4em;box-sizing: border-box;padding-bottom: 0.4em;background-color: white;}#sk-container-id-1 div.sk-label label {font-family: monospace;font-weight: bold;display: inline-block;line-height: 1.2em;}#sk-container-id-1 div.sk-label-container {text-align: center;}#sk-container-id-1 div.sk-container {/* jupyter's `normalize.less` sets `[hidden] { display: none; }` but bootstrap.min.css set `[hidden] { display: none !important; }` so we also need the `!important` here to be able to override the default hidden behavior on the sphinx rendered scikit-learn.org. See: https://github.com/scikit-learn/scikit-learn/issues/21755 */display: inline-block !important;position: relative;}#sk-container-id-1 div.sk-text-repr-fallback {display: none;}</style><div id=\"sk-container-id-1\" class=\"sk-top-container\"><div class=\"sk-text-repr-fallback\"><pre>HistGradientBoostingClassifier(learning_rate=0.01169, max_depth=4.06,\n",
       "                               max_leaf_nodes=7.657, min_samples_leaf=9.266)</pre><b>In a Jupyter environment, please rerun this cell to show the HTML representation or trust the notebook. <br />On GitHub, the HTML representation is unable to render, please try loading this page with nbviewer.org.</b></div><div class=\"sk-container\" hidden><div class=\"sk-item\"><div class=\"sk-estimator sk-toggleable\"><input class=\"sk-toggleable__control sk-hidden--visually\" id=\"sk-estimator-id-1\" type=\"checkbox\" checked><label for=\"sk-estimator-id-1\" class=\"sk-toggleable__label sk-toggleable__label-arrow\">HistGradientBoostingClassifier</label><div class=\"sk-toggleable__content\"><pre>HistGradientBoostingClassifier(learning_rate=0.01169, max_depth=4.06,\n",
       "                               max_leaf_nodes=7.657, min_samples_leaf=9.266)</pre></div></div></div></div></div>"
      ],
      "text/plain": [
       "HistGradientBoostingClassifier(learning_rate=0.01169, max_depth=4.06,\n",
       "                               max_leaf_nodes=7.657, min_samples_leaf=9.266)"
      ]
     },
     "execution_count": 7,
     "metadata": {},
     "output_type": "execute_result"
    }
   ],
   "source": [
    "model = HistGradientBoostingClassifier(learning_rate=0.01169, max_depth=4.06, max_leaf_nodes=7.657, min_samples_leaf=9.266)\n",
    "model.fit(X_train, y_train)"
   ]
  },
  {
   "cell_type": "code",
   "execution_count": 8,
   "metadata": {},
   "outputs": [],
   "source": [
    "y_pred = model.predict(X_test)"
   ]
  },
  {
   "cell_type": "code",
   "execution_count": 9,
   "metadata": {},
   "outputs": [
    {
     "name": "stdout",
     "output_type": "stream",
     "text": [
      "[[838 240]\n",
      " [253 843]]\n",
      "              precision    recall  f1-score   support\n",
      "\n",
      "       False       0.77      0.78      0.77      1078\n",
      "        True       0.78      0.77      0.77      1096\n",
      "\n",
      "    accuracy                           0.77      2174\n",
      "   macro avg       0.77      0.77      0.77      2174\n",
      "weighted avg       0.77      0.77      0.77      2174\n",
      "\n"
     ]
    }
   ],
   "source": [
    "print(confusion_matrix(y_test, y_pred))\n",
    "print(classification_report(y_test, y_pred))"
   ]
  },
  {
   "cell_type": "code",
   "execution_count": 10,
   "metadata": {},
   "outputs": [],
   "source": [
    "y_pred = model.predict(test)"
   ]
  },
  {
   "cell_type": "code",
   "execution_count": 11,
   "metadata": {},
   "outputs": [
    {
     "name": "stdout",
     "output_type": "stream",
     "text": [
      "  PassengerId  Transported\n",
      "0     0013_01        False\n",
      "1     0018_01        False\n",
      "2     0019_01         True\n",
      "3     0021_01         True\n",
      "4     0023_01        False\n"
     ]
    }
   ],
   "source": [
    "df_out = test[\"PassengerId\"]\n",
    "df_out = pd.DataFrame({\n",
    "    \"PassengerId\": original_test[\"PassengerId\"],\n",
    "    \"Transported\": y_pred\n",
    "    })\n",
    "print(df_out.head())\n",
    "df_out.to_csv(\"sample_submission.csv\", index=False)"
   ]
  },
  {
   "cell_type": "code",
   "execution_count": null,
   "metadata": {},
   "outputs": [],
   "source": []
  },
  {
   "cell_type": "code",
   "execution_count": null,
   "metadata": {},
   "outputs": [],
   "source": []
  },
  {
   "cell_type": "code",
   "execution_count": null,
   "metadata": {},
   "outputs": [],
   "source": []
  }
 ],
 "metadata": {
  "kernelspec": {
   "display_name": "Python 3",
   "language": "python",
   "name": "python3"
  },
  "language_info": {
   "codemirror_mode": {
    "name": "ipython",
    "version": 3
   },
   "file_extension": ".py",
   "mimetype": "text/x-python",
   "name": "python",
   "nbconvert_exporter": "python",
   "pygments_lexer": "ipython3",
   "version": "3.10.1"
  },
  "orig_nbformat": 4
 },
 "nbformat": 4,
 "nbformat_minor": 2
}
