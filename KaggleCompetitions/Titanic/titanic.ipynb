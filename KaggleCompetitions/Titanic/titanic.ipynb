{
 "cells": [
  {
   "cell_type": "code",
   "execution_count": 210,
   "metadata": {},
   "outputs": [],
   "source": [
    "import pandas as pd\n",
    "import numpy as np\n",
    "\n",
    "from sklearn.preprocessing import LabelEncoder\n",
    "from sklearn.preprocessing import robust_scale\n",
    "from sklearn.preprocessing import StandardScaler\n",
    "from sklearn.model_selection import train_test_split"
   ]
  },
  {
   "cell_type": "code",
   "execution_count": 211,
   "metadata": {},
   "outputs": [],
   "source": [
    "def clean(df):\n",
    "    df.drop(\"Name\", axis=1, inplace=True)\n",
    "    df.drop(\"Ticket\", axis=1, inplace=True)\n",
    "    df.drop(\"Cabin\", axis=1, inplace=True)\n",
    "    \n",
    "    df[\"Age\"].fillna(df[\"Age\"].median(), inplace=True)\n",
    "    df[\"Embarked\"].fillna(\"U\", inplace=True)\n",
    "    df[\"Fare\"].fillna(df[\"Fare\"].median(), inplace=True)\n",
    "    \n",
    "    se = LabelEncoder()\n",
    "    ee = LabelEncoder()\n",
    "    df[\"Sex\"] = se.fit_transform(df[\"Sex\"])\n",
    "    df[\"Embarked\"] = ee.fit_transform(df[\"Embarked\"])\n",
    "    \n",
    "    df[\"Fare\"] = robust_scale(df[\"Fare\"])\n",
    "    ageScaler = StandardScaler()\n",
    "    df[\"Age\"] = ageScaler.fit_transform(df[[\"Age\"]])\n",
    "            \n",
    "    return df"
   ]
  },
  {
   "cell_type": "code",
   "execution_count": 212,
   "metadata": {},
   "outputs": [],
   "source": [
    "training_df = clean(pd.read_csv(\"data/train.csv\"))\n",
    "testing_df = clean(pd.read_csv(\"data/test.csv\"))"
   ]
  },
  {
   "attachments": {},
   "cell_type": "markdown",
   "metadata": {},
   "source": [
    "## END CLEANING"
   ]
  },
  {
   "cell_type": "code",
   "execution_count": 213,
   "metadata": {},
   "outputs": [],
   "source": [
    "from sklearn.neighbors import KNeighborsClassifier\n",
    "from sklearn.linear_model import LogisticRegression\n",
    "from sklearn.ensemble import RandomForestClassifier\n",
    "from sklearn.ensemble import HistGradientBoostingClassifier\n",
    "from sklearn.svm import SVC\n",
    "\n",
    "\n",
    "import seaborn as sns\n",
    "import matplotlib.pyplot as plt\n",
    "from sklearn.metrics import classification_report, confusion_matrix\n"
   ]
  },
  {
   "cell_type": "code",
   "execution_count": 214,
   "metadata": {},
   "outputs": [],
   "source": [
    "def printStats(y_true, y_pred):\n",
    "    print(classification_report(y_true, y_pred))\n",
    "\n",
    "    # Create a sample confusion matrix\n",
    "    cm = confusion_matrix(y_true, y_pred)\n",
    "\n",
    "    # Create a heatmap with the confusion matrix\n",
    "    sns.heatmap(cm, annot=True, cmap='Blues', fmt='g', xticklabels=['class 0', 'class 1'], yticklabels=['class 0', 'class 1'])\n",
    "\n",
    "    # Add labels and title\n",
    "    plt.xlabel('Predicted label')\n",
    "    plt.ylabel('True label')\n",
    "    plt.title('Confusion matrix')\n",
    "    plt.show()"
   ]
  },
  {
   "cell_type": "code",
   "execution_count": 224,
   "metadata": {},
   "outputs": [],
   "source": [
    "def tuning(X, y):\n",
    "    print(\"HYPERPARAMETERS TUNING ONGOING...\")\n",
    "    SEED = np.random.randint(1, 999999)\n",
    "    \n",
    "    \n",
    "    from sklearn.model_selection import cross_val_score\n",
    "    from bayes_opt import BayesianOptimization\n",
    "\n",
    "    # Define the objective function to be maximized\n",
    "    def rf_cv(n_estimators, max_depth, min_samples_split, max_features):\n",
    "        # Define the random forest classifier with the given hyperparameters\n",
    "        clf = RandomForestClassifier(n_estimators=int(n_estimators),\n",
    "                                    max_depth=int(max_depth),\n",
    "                                    min_samples_split=int(min_samples_split) + 1,\n",
    "                                    max_features=max_features,\n",
    "                                    random_state=SEED)\n",
    "\n",
    "        # Calculate cross-validation scores for the classifier\n",
    "        scores = cross_val_score(clf, X, y, cv=5, scoring='accuracy')\n",
    "\n",
    "        # Return the mean cross-validation score\n",
    "        return scores.mean()\n",
    "\n",
    "    # Define the hyperparameters and their respective ranges for Bayesian optimization\n",
    "    pbounds = {'n_estimators': (10, 500),\n",
    "            'max_depth': (2, 20),\n",
    "            'min_samples_split': (2, 12),\n",
    "            'max_features': (0.1, 0.999)}\n",
    "\n",
    "    # Initialize the Bayesian optimizer with the objective function and hyperparameter ranges\n",
    "    optimizer = BayesianOptimization(f=rf_cv, pbounds=pbounds, random_state=42)\n",
    "\n",
    "    # Run the Bayesian optimizer for 10 iterations\n",
    "    optimizer.maximize(init_points=5, n_iter=5)\n",
    "\n",
    "    # Train a Random Forest classifier with the best hyperparameters found by the optimization\n",
    "    best_params = optimizer.max['params']\n",
    "    best_params[\"n_estimators\"] = int(best_params[\"n_estimators\"])\n",
    "    best_params[\"max_depth\"] = int(best_params[\"max_depth\"])\n",
    "    best_params[\"min_samples_split\"] = max(2, best_params[\"max_depth\"])\n",
    "    \n",
    "    print(best_params)\n",
    "    \n",
    "    clf = RandomForestClassifier(**best_params,\n",
    "                                random_state=SEED)\n",
    "    clf.fit(X, y)\n",
    "\n",
    "    # Return the trained Random Forest classifier with the best hyperparameters\n",
    "    return clf\n",
    "\n",
    "\n"
   ]
  },
  {
   "cell_type": "code",
   "execution_count": 225,
   "metadata": {},
   "outputs": [],
   "source": [
    "def train(df, test_size=0.3, tuned=False):\n",
    "    print(f\"TRAINING WITH {test_size*100}% TEST SIZE...\")\n",
    "    test_size = test_size if 0 < test_size <= 1 else 0.01\n",
    "    \n",
    "    X = df.drop(\"Survived\", axis=1)\n",
    "    y = df[\"Survived\"]\n",
    "    \n",
    "    X_train, X_test, y_train, y_test = train_test_split(X, y, test_size=test_size)\n",
    "\n",
    "\n",
    "    model = tuning(X_train, y_train) if tuned else RandomForestClassifier(random_state=30)\n",
    "    model.fit(X_train, y_train)\n",
    "    \n",
    "    if test_size <= 0.01:\n",
    "        return model\n",
    "    \n",
    "    y_pred = model.predict(X_test)\n",
    "    printStats(y_test, y_pred)\n",
    "    \n",
    "    return model"
   ]
  },
  {
   "cell_type": "code",
   "execution_count": 233,
   "metadata": {},
   "outputs": [
    {
     "name": "stdout",
     "output_type": "stream",
     "text": [
      "TRAINING WITH 0% TEST SIZE...\n",
      "HYPERPARAMETERS TUNING ONGOING...\n",
      "|   iter    |  target   | max_depth | max_fe... | min_sa... | n_esti... |\n",
      "-------------------------------------------------------------------------\n",
      "| \u001b[0m1        \u001b[0m | \u001b[0m0.8232   \u001b[0m | \u001b[0m8.742    \u001b[0m | \u001b[0m0.9547   \u001b[0m | \u001b[0m9.32     \u001b[0m | \u001b[0m303.3    \u001b[0m |\n",
      "| \u001b[0m2        \u001b[0m | \u001b[0m0.8117   \u001b[0m | \u001b[0m4.808    \u001b[0m | \u001b[0m0.2402   \u001b[0m | \u001b[0m2.581    \u001b[0m | \u001b[0m434.4    \u001b[0m |\n",
      "| \u001b[95m3        \u001b[0m | \u001b[95m0.8333   \u001b[0m | \u001b[95m12.82    \u001b[0m | \u001b[95m0.7366   \u001b[0m | \u001b[95m2.206    \u001b[0m | \u001b[95m485.3    \u001b[0m |\n",
      "| \u001b[95m4        \u001b[0m | \u001b[95m0.8379   \u001b[0m | \u001b[95m16.98    \u001b[0m | \u001b[95m0.2909   \u001b[0m | \u001b[95m3.818    \u001b[0m | \u001b[95m99.87    \u001b[0m |\n",
      "| \u001b[0m5        \u001b[0m | \u001b[0m0.8277   \u001b[0m | \u001b[0m7.476    \u001b[0m | \u001b[0m0.5718   \u001b[0m | \u001b[0m6.319    \u001b[0m | \u001b[0m152.7    \u001b[0m |\n",
      "| \u001b[0m6        \u001b[0m | \u001b[0m0.8265   \u001b[0m | \u001b[0m15.69    \u001b[0m | \u001b[0m0.7081   \u001b[0m | \u001b[0m5.01     \u001b[0m | \u001b[0m100.2    \u001b[0m |\n",
      "| \u001b[0m7        \u001b[0m | \u001b[0m0.7596   \u001b[0m | \u001b[0m2.886    \u001b[0m | \u001b[0m0.1166   \u001b[0m | \u001b[0m8.005    \u001b[0m | \u001b[0m364.7    \u001b[0m |\n",
      "| \u001b[95m8        \u001b[0m | \u001b[95m0.8424   \u001b[0m | \u001b[95m19.07    \u001b[0m | \u001b[95m0.3335   \u001b[0m | \u001b[95m4.018    \u001b[0m | \u001b[95m94.39    \u001b[0m |\n",
      "| \u001b[0m9        \u001b[0m | \u001b[0m0.8276   \u001b[0m | \u001b[0m20.0     \u001b[0m | \u001b[0m0.1      \u001b[0m | \u001b[0m2.0      \u001b[0m | \u001b[0m83.99    \u001b[0m |\n",
      "| \u001b[0m10       \u001b[0m | \u001b[0m0.8288   \u001b[0m | \u001b[0m12.26    \u001b[0m | \u001b[0m0.235    \u001b[0m | \u001b[0m11.8     \u001b[0m | \u001b[0m478.5    \u001b[0m |\n",
      "=========================================================================\n",
      "{'max_depth': 19, 'max_features': 0.3334999895313213, 'min_samples_split': 19, 'n_estimators': 94}\n"
     ]
    }
   ],
   "source": [
    "model = train(training_df, test_size=0, tuned=True)"
   ]
  },
  {
   "cell_type": "code",
   "execution_count": 234,
   "metadata": {},
   "outputs": [],
   "source": [
    "output = model.predict(testing_df)"
   ]
  },
  {
   "cell_type": "code",
   "execution_count": 235,
   "metadata": {},
   "outputs": [],
   "source": [
    "submission_df = pd.DataFrame({\n",
    "    \"PassengerId\": testing_df[\"PassengerId\"],\n",
    "    \"Survived\": output\n",
    "})\n",
    "submission_df.to_csv(\"output.csv\", index=False)"
   ]
  },
  {
   "cell_type": "code",
   "execution_count": null,
   "metadata": {},
   "outputs": [],
   "source": []
  },
  {
   "cell_type": "code",
   "execution_count": null,
   "metadata": {},
   "outputs": [],
   "source": []
  },
  {
   "cell_type": "code",
   "execution_count": null,
   "metadata": {},
   "outputs": [],
   "source": []
  },
  {
   "cell_type": "code",
   "execution_count": null,
   "metadata": {},
   "outputs": [],
   "source": []
  },
  {
   "cell_type": "code",
   "execution_count": null,
   "metadata": {},
   "outputs": [],
   "source": []
  },
  {
   "cell_type": "code",
   "execution_count": 68,
   "metadata": {},
   "outputs": [],
   "source": [
    "def findNans(df):\n",
    "    col_missing_rows = df[\"Age\"].isna().sum()\n",
    "    missing_rows = df.isna().any(axis=1).sum()\n",
    "\n",
    "    missing_values = df.isna().sum()\n",
    "\n",
    "    for col, num_missing in missing_values.iteritems():\n",
    "        print(f\"{col}: {num_missing}\")\n",
    "\n",
    "\n",
    "    print(col_missing_rows)\n",
    "    print(missing_rows)"
   ]
  },
  {
   "cell_type": "code",
   "execution_count": 69,
   "metadata": {},
   "outputs": [
    {
     "name": "stdout",
     "output_type": "stream",
     "text": [
      "PassengerId: 0\n",
      "Pclass: 0\n",
      "Sex: 0\n",
      "Age: 0\n",
      "SibSp: 0\n",
      "Parch: 0\n",
      "Fare: 0\n",
      "Embarked: 0\n",
      "CC: 0\n",
      "CN: 0\n",
      "0\n",
      "0\n"
     ]
    }
   ],
   "source": [
    "findNans(testing_df)"
   ]
  },
  {
   "cell_type": "code",
   "execution_count": null,
   "metadata": {},
   "outputs": [],
   "source": []
  }
 ],
 "metadata": {
  "kernelspec": {
   "display_name": "Python 3",
   "language": "python",
   "name": "python3"
  },
  "language_info": {
   "codemirror_mode": {
    "name": "ipython",
    "version": 3
   },
   "file_extension": ".py",
   "mimetype": "text/x-python",
   "name": "python",
   "nbconvert_exporter": "python",
   "pygments_lexer": "ipython3",
   "version": "3.10.1"
  },
  "orig_nbformat": 4,
  "vscode": {
   "interpreter": {
    "hash": "369f2c481f4da34e4445cda3fffd2e751bd1c4d706f27375911949ba6bb62e1c"
   }
  }
 },
 "nbformat": 4,
 "nbformat_minor": 2
}
