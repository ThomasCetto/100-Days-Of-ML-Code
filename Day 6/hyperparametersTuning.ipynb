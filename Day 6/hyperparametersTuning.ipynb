{
 "cells": [
  {
   "attachments": {},
   "cell_type": "markdown",
   "metadata": {},
   "source": [
    "# Hyperparameters Tuning\n",
    "\n",
    "The hyperparameters are all the parameters that can be set by the user before starting training, and determine how the model is structured in the first place.\n",
    "\n",
    "The goal is to find the right combination of the values to find the minimum loss or the maximum accuracy.\n",
    "\n",
    "### Manual Search\n",
    "\n",
    "### Random Search\n",
    "\n",
    "### Grid Search\n",
    "\n",
    "### Automated Hyperparameter Tuning\n",
    "- *Bayesian Optimization:* uses probability to find the minumum of a function. The aim is to find the input value to a function which can give use the lowest possible output value"
   ]
  },
  {
   "cell_type": "code",
   "execution_count": 1,
   "metadata": {},
   "outputs": [],
   "source": [
    "from sklearn.datasets import load_iris\n",
    "from sklearn.ensemble import RandomForestClassifier\n",
    "from sklearn.model_selection import cross_val_score\n",
    "from bayes_opt import BayesianOptimization"
   ]
  },
  {
   "cell_type": "code",
   "execution_count": 2,
   "metadata": {},
   "outputs": [],
   "source": [
    "iris = load_iris()\n",
    "X, y = iris.data, iris.target"
   ]
  },
  {
   "cell_type": "code",
   "execution_count": 3,
   "metadata": {},
   "outputs": [],
   "source": [
    "# Define the objective function to be maximized\n",
    "def rf_cv(n_estimators, max_depth, min_samples_split, max_features):\n",
    "    # Define the random forest classifier with the given hyperparameters\n",
    "    clf = RandomForestClassifier(n_estimators=int(n_estimators),\n",
    "                                 max_depth=int(max_depth),\n",
    "                                 min_samples_split=int(min_samples_split),\n",
    "                                 max_features=max(min(max_features, 0.999), 1e-6),\n",
    "                                 random_state=42)\n",
    "\n",
    "    # Calculate cross-validation scores for the classifier\n",
    "    scores = cross_val_score(clf, X, y, cv=5, scoring='accuracy')\n",
    "\n",
    "    # Return the mean cross-validation score\n",
    "    return scores.mean()\n"
   ]
  },
  {
   "cell_type": "code",
   "execution_count": 4,
   "metadata": {},
   "outputs": [
    {
     "name": "stdout",
     "output_type": "stream",
     "text": [
      "|   iter    |  target   | max_depth | max_fe... | min_sa... | n_esti... |\n",
      "-------------------------------------------------------------------------\n",
      "| \u001b[0m1        \u001b[0m | \u001b[0m0.96     \u001b[0m | \u001b[0m8.742    \u001b[0m | \u001b[0m0.9547   \u001b[0m | \u001b[0m7.856    \u001b[0m | \u001b[0m303.3    \u001b[0m |\n",
      "| \u001b[95m2        \u001b[0m | \u001b[95m0.9667   \u001b[0m | \u001b[95m4.808    \u001b[0m | \u001b[95m0.2402   \u001b[0m | \u001b[95m2.465    \u001b[0m | \u001b[95m434.4    \u001b[0m |\n",
      "| \u001b[0m3        \u001b[0m | \u001b[0m0.9667   \u001b[0m | \u001b[0m12.82    \u001b[0m | \u001b[0m0.7366   \u001b[0m | \u001b[0m2.165    \u001b[0m | \u001b[0m485.3    \u001b[0m |\n",
      "| \u001b[0m4        \u001b[0m | \u001b[0m0.96     \u001b[0m | \u001b[0m16.98    \u001b[0m | \u001b[0m0.2909   \u001b[0m | \u001b[0m3.455    \u001b[0m | \u001b[0m99.87    \u001b[0m |\n",
      "| \u001b[0m5        \u001b[0m | \u001b[0m0.9667   \u001b[0m | \u001b[0m7.476    \u001b[0m | \u001b[0m0.5718   \u001b[0m | \u001b[0m5.456    \u001b[0m | \u001b[0m152.7    \u001b[0m |\n",
      "| \u001b[0m6        \u001b[0m | \u001b[0m0.96     \u001b[0m | \u001b[0m9.808    \u001b[0m | \u001b[0m0.6334   \u001b[0m | \u001b[0m3.867    \u001b[0m | \u001b[0m471.2    \u001b[0m |\n",
      "| \u001b[0m7        \u001b[0m | \u001b[0m0.9533   \u001b[0m | \u001b[0m2.886    \u001b[0m | \u001b[0m0.1166   \u001b[0m | \u001b[0m6.804    \u001b[0m | \u001b[0m364.7    \u001b[0m |\n",
      "| \u001b[0m8        \u001b[0m | \u001b[0m0.96     \u001b[0m | \u001b[0m2.081    \u001b[0m | \u001b[0m0.1363   \u001b[0m | \u001b[0m5.732    \u001b[0m | \u001b[0m182.5    \u001b[0m |\n",
      "| \u001b[0m9        \u001b[0m | \u001b[0m0.9667   \u001b[0m | \u001b[0m19.47    \u001b[0m | \u001b[0m0.7379   \u001b[0m | \u001b[0m9.951    \u001b[0m | \u001b[0m193.2    \u001b[0m |\n",
      "| \u001b[0m10       \u001b[0m | \u001b[0m0.9667   \u001b[0m | \u001b[0m10.49    \u001b[0m | \u001b[0m0.2443   \u001b[0m | \u001b[0m8.416    \u001b[0m | \u001b[0m57.29    \u001b[0m |\n",
      "=========================================================================\n",
      "{'target': 0.9666666666666668, 'params': {'max_depth': 4.808335527963857, 'max_features': 0.24023907378224618, 'min_samples_split': 2.4646688973455957, 'n_estimators': 434.4263114297182}}\n"
     ]
    }
   ],
   "source": [
    "# Define the hyperparameters and their respective ranges for Bayesian optimization\n",
    "pbounds = {'n_estimators': (10, 500),\n",
    "           'max_depth': (2, 20),\n",
    "           'min_samples_split': (2, 10),\n",
    "           'max_features': (0.1, 0.999)}\n",
    "\n",
    "# Initialize the Bayesian optimizer with the objective function and hyperparameter ranges\n",
    "optimizer = BayesianOptimization(f=rf_cv, pbounds=pbounds, random_state=42)\n",
    "\n",
    "# Run the Bayesian optimizer for 10 iterations\n",
    "optimizer.maximize(init_points=5, n_iter=5)\n",
    "\n",
    "# Print the optimal hyperparameters and corresponding score\n",
    "print(optimizer.max)"
   ]
  },
  {
   "cell_type": "code",
   "execution_count": null,
   "metadata": {},
   "outputs": [],
   "source": []
  }
 ],
 "metadata": {
  "kernelspec": {
   "display_name": "Python 3",
   "language": "python",
   "name": "python3"
  },
  "language_info": {
   "codemirror_mode": {
    "name": "ipython",
    "version": 3
   },
   "file_extension": ".py",
   "mimetype": "text/x-python",
   "name": "python",
   "nbconvert_exporter": "python",
   "pygments_lexer": "ipython3",
   "version": "3.10.1"
  },
  "orig_nbformat": 4
 },
 "nbformat": 4,
 "nbformat_minor": 2
}
