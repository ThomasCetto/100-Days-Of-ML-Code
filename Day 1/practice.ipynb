{
 "cells": [
  {
   "cell_type": "code",
   "execution_count": null,
   "metadata": {},
   "outputs": [],
   "source": []
  },
  {
   "attachments": {},
   "cell_type": "markdown",
   "metadata": {},
   "source": [
    "## Headers\n",
    "\n",
    "### Subheaders\n",
    "\n",
    "## Formatting Text\n",
    "\n",
    "**bold**, *italic*, or ~~strikethrough~~.\n",
    "\n",
    "## Links\n",
    "\n",
    "[Google](https://www.google.com/).\n",
    "\n",
    "## Images\n",
    "\n",
    "![markdown logo](https://upload.wikimedia.org/wikipedia/commons/4/48/Markdown-mark.svg)\n",
    "\n",
    "### Unordered List\n",
    "\n",
    "- Item 1\n",
    "- Item 2\n",
    "- Item 3\n",
    "\n",
    "### Ordered List\n",
    "\n",
    "1. First item\n",
    "2. Second item\n",
    "3. Third item\n",
    "\n",
    "## Blockquotes\n",
    "\n",
    "> Quote\n",
    "\n",
    "## Code Blocks \n",
    "\n",
    "```\n",
    "print(\"Hello\")\n",
    "```\n",
    "\n"
   ]
  }
 ],
 "metadata": {
  "language_info": {
   "name": "python"
  },
  "orig_nbformat": 4
 },
 "nbformat": 4,
 "nbformat_minor": 2
}
