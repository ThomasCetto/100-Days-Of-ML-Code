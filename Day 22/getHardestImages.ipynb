{
 "cells": [
  {
   "cell_type": "code",
   "execution_count": 16,
   "metadata": {},
   "outputs": [],
   "source": [
    "import torch\n",
    "from torch.utils.data import DataLoader\n",
    "\n",
    "import torchvision\n",
    "from torchvision.transforms import ToTensor\n",
    "import pickle\n",
    "from tqdm.auto import tqdm\n",
    "from torch import nn"
   ]
  },
  {
   "cell_type": "code",
   "execution_count": 17,
   "metadata": {},
   "outputs": [],
   "source": [
    "class ImprovedCNNDigits(nn.Module):\n",
    "    def __init__(self):\n",
    "        super(ImprovedCNNDigits, self).__init__()\n",
    "        \n",
    "        self.layers = nn.Sequential(\n",
    "            nn.Conv2d(1, 32, kernel_size=3),\n",
    "            nn.BatchNorm2d(32),\n",
    "            nn.ReLU(),\n",
    "            nn.Conv2d(32, 64, kernel_size=3),\n",
    "            nn.BatchNorm2d(64),\n",
    "            nn.ReLU(),\n",
    "            nn.MaxPool2d(kernel_size=2, stride=2),\n",
    "            nn.Conv2d(64, 128, kernel_size=3),\n",
    "            nn.BatchNorm2d(128),\n",
    "            nn.ReLU(),\n",
    "            nn.MaxPool2d(kernel_size=2, stride=2),\n",
    "        )\n",
    "        \n",
    "        self.classifier = nn.Sequential(\n",
    "            nn.Flatten(),\n",
    "            nn.Linear(128 * 5 * 5, 256),\n",
    "            nn.BatchNorm1d(256),\n",
    "            nn.ReLU(),\n",
    "            nn.Linear(256, 10)\n",
    "        )\n",
    "        \n",
    "    def forward(self, x):\n",
    "        x = self.layers(x)\n",
    "        return self.classifier(x)"
   ]
  },
  {
   "cell_type": "code",
   "execution_count": 24,
   "metadata": {},
   "outputs": [],
   "source": [
    "model = torch.load(\"model.pth\")"
   ]
  },
  {
   "cell_type": "code",
   "execution_count": 33,
   "metadata": {},
   "outputs": [],
   "source": [
    "test_dataset = torchvision.datasets.MNIST(\n",
    "    \"/data\",\n",
    "    train=False,\n",
    "    transform=ToTensor(),\n",
    "    download=True\n",
    ")\n",
    "\n",
    "test_dataset.data = torch.where(test_dataset.data >= 127, 255, 0).type(torch.uint8)\n",
    "\n",
    "\n",
    "test_dataloader = DataLoader(test_dataset, batch_size=50, shuffle=False)\n"
   ]
  },
  {
   "cell_type": "code",
   "execution_count": 34,
   "metadata": {},
   "outputs": [
    {
     "data": {
      "application/vnd.jupyter.widget-view+json": {
       "model_id": "4c4875b2f3ec479da266cc92f4b02ef1",
       "version_major": 2,
       "version_minor": 0
      },
      "text/plain": [
       "Making predictions:   0%|          | 0/200 [00:00<?, ?it/s]"
      ]
     },
     "metadata": {},
     "output_type": "display_data"
    }
   ],
   "source": [
    "y_preds = []\n",
    "y_trues = []\n",
    "model.eval()\n",
    "with torch.inference_mode():\n",
    "    for X, y in tqdm(test_dataloader, desc=\"Making predictions\"):\n",
    "        y_logits = model(X)\n",
    "        softmax = torch.softmax(y_logits, dim=1)\n",
    "        y_pred = softmax.squeeze().argmax(dim=1)\n",
    "        \n",
    "        y_preds += y_pred.tolist()\n",
    "        y_trues += y.tolist()\n",
    "\n"
   ]
  },
  {
   "cell_type": "code",
   "execution_count": 35,
   "metadata": {},
   "outputs": [
    {
     "name": "stdout",
     "output_type": "stream",
     "text": [
      "173 [321, 445, 449, 495, 582, 591, 659, 684, 717, 839, 844, 846, 882, 947, 1014, 1039, 1062, 1068, 1112, 1156, 1182, 1202, 1226, 1232, 1242, 1247, 1260, 1263, 1299, 1319, 1326, 1337, 1364, 1393, 1500, 1527, 1530, 1621, 1678, 1681, 1709, 1754, 1790, 1878, 1901, 2023, 2043, 2053, 2070, 2098, 2109, 2118, 2130, 2135, 2168, 2182, 2185, 2189, 2266, 2280, 2293, 2387, 2414, 2425, 2454, 2462, 2488, 2597, 2607, 2654, 2780, 2896, 2921, 2927, 2952, 2953, 2995, 3023, 3060, 3073, 3206, 3225, 3289, 3384, 3422, 3503, 3511, 3520, 3559, 3597, 3718, 3767, 3796, 3806, 3808, 3853, 3906, 4075, 4078, 4176, 4205, 4238, 4248, 4256, 4265, 4306, 4344, 4497, 4536, 4571, 4575, 4578, 4615, 4639, 4731, 4740, 4761, 4783, 4807, 4814, 4874, 4956, 4978, 5278, 5634, 5734, 5842, 5888, 5955, 5973, 6011, 6059, 6091, 6157, 6172, 6505, 6532, 6555, 6558, 6571, 6576, 6578, 6597, 6625, 6651, 6740, 6755, 6783, 6847, 7121, 7434, 7619, 7902, 8059, 8081, 8091, 8094, 8095, 8246, 8408, 8520, 8527, 9009, 9015, 9019, 9642, 9664, 9692, 9729, 9770, 9839, 9905, 9982]\n"
     ]
    }
   ],
   "source": [
    "indexes = [i for i, (x, y) in enumerate(zip(y_preds, y_trues)) if x != y]\n",
    "\n",
    "print(len(indexes), indexes)"
   ]
  },
  {
   "cell_type": "code",
   "execution_count": null,
   "metadata": {},
   "outputs": [],
   "source": []
  }
 ],
 "metadata": {
  "kernelspec": {
   "display_name": "Python 3",
   "language": "python",
   "name": "python3"
  },
  "language_info": {
   "codemirror_mode": {
    "name": "ipython",
    "version": 3
   },
   "file_extension": ".py",
   "mimetype": "text/x-python",
   "name": "python",
   "nbconvert_exporter": "python",
   "pygments_lexer": "ipython3",
   "version": "3.11.2"
  },
  "orig_nbformat": 4
 },
 "nbformat": 4,
 "nbformat_minor": 2
}
