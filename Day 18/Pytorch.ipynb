{
 "cells": [
  {
   "attachments": {},
   "cell_type": "markdown",
   "metadata": {},
   "source": [
    "# Starting with PyTorch\n",
    "\n",
    "### What is a Tensor?\n",
    "A tensor is an object that represents some data, that could be numbers, text, an image, a video, an audio... Tensors can have any number of dimensions.\n"
   ]
  },
  {
   "cell_type": "code",
   "execution_count": 3,
   "metadata": {},
   "outputs": [
    {
     "data": {
      "text/plain": [
       "'2.0.0+cu117'"
      ]
     },
     "execution_count": 3,
     "metadata": {},
     "output_type": "execute_result"
    }
   ],
   "source": [
    "import torch\n",
    "torch.__version__"
   ]
  },
  {
   "cell_type": "code",
   "execution_count": 4,
   "metadata": {},
   "outputs": [
    {
     "name": "stdout",
     "output_type": "stream",
     "text": [
      "tensor(7)\n",
      "0\n",
      "7\n"
     ]
    },
    {
     "name": "stderr",
     "output_type": "stream",
     "text": [
      "C:\\Users\\thoma\\AppData\\Local\\Temp\\ipykernel_9060\\2450826113.py:3: UserWarning: Failed to initialize NumPy: module compiled against API version 0x10 but this version of numpy is 0xf . Check the section C-API incompatibility at the Troubleshooting ImportError section at https://numpy.org/devdocs/user/troubleshooting-importerror.html#c-api-incompatibility for indications on how to solve this problem . (Triggered internally at ..\\torch\\csrc\\utils\\tensor_numpy.cpp:84.)\n",
      "  scalar = torch.tensor(7)\n"
     ]
    }
   ],
   "source": [
    "# Scalars (zero dimensions tensors)\n",
    "\n",
    "scalar = torch.tensor(7)\n",
    "print(scalar)\n",
    "print(scalar.ndim)\n",
    "print(scalar.item())"
   ]
  },
  {
   "cell_type": "code",
   "execution_count": 5,
   "metadata": {},
   "outputs": [
    {
     "name": "stdout",
     "output_type": "stream",
     "text": [
      "tensor([7, 8])\n",
      "1\n",
      "torch.Size([2])\n"
     ]
    }
   ],
   "source": [
    "# Vectors (one dimension tensors)\n",
    "\n",
    "vector = torch.tensor([7, 8])\n",
    "print(vector)\n",
    "print(vector.ndim)\n",
    "print(vector.shape)"
   ]
  },
  {
   "cell_type": "code",
   "execution_count": 6,
   "metadata": {},
   "outputs": [
    {
     "name": "stdout",
     "output_type": "stream",
     "text": [
      "tensor([[ 7,  8],\n",
      "        [ 9, 10]])\n",
      "2\n",
      "torch.Size([2, 2])\n"
     ]
    }
   ],
   "source": [
    "# Matrix (two dimensions tensors)\n",
    "matrix = torch.tensor([[7, 8],\n",
    "                       [9, 10]])\n",
    "print(matrix)\n",
    "print(matrix.ndim)\n",
    "print(matrix.shape)"
   ]
  },
  {
   "cell_type": "code",
   "execution_count": 7,
   "metadata": {},
   "outputs": [
    {
     "name": "stdout",
     "output_type": "stream",
     "text": [
      "tensor([[[1, 2],\n",
      "         [3, 4],\n",
      "         [5, 6]]])\n",
      "3\n",
      "torch.Size([1, 3, 2])\n"
     ]
    }
   ],
   "source": [
    "# Tensor\n",
    "\n",
    "tensor = torch.tensor([[[1, 2],\n",
    "                        [3, 4],\n",
    "                        [5, 6]]])\n",
    "print(tensor)\n",
    "print(tensor.ndim)\n",
    "print(tensor.shape)"
   ]
  },
  {
   "cell_type": "code",
   "execution_count": 8,
   "metadata": {},
   "outputs": [
    {
     "name": "stdout",
     "output_type": "stream",
     "text": [
      "tensor([[0.3119, 0.5098, 0.4707, 0.0870],\n",
      "        [0.6088, 0.6877, 0.5566, 0.6515],\n",
      "        [0.9109, 0.0716, 0.8094, 0.8587]])\n",
      "2\n",
      "torch.Size([3, 4])\n",
      "torch.float32\n"
     ]
    }
   ],
   "source": [
    "# Random tensor\n",
    "\n",
    "rand_tensor = torch.rand(size=(3, 4))\n",
    "print(rand_tensor)\n",
    "print(rand_tensor.ndim)\n",
    "print(rand_tensor.shape)\n",
    "print(rand_tensor.dtype)"
   ]
  },
  {
   "cell_type": "code",
   "execution_count": 9,
   "metadata": {},
   "outputs": [
    {
     "name": "stdout",
     "output_type": "stream",
     "text": [
      "tensor([0, 1, 2, 3, 4, 5, 6, 7, 8, 9])\n",
      "tensor([0, 0, 0, 0, 0, 0, 0, 0, 0, 0])\n"
     ]
    },
    {
     "data": {
      "text/plain": [
       "device(type='cpu')"
      ]
     },
     "execution_count": 9,
     "metadata": {},
     "output_type": "execute_result"
    }
   ],
   "source": [
    "# Zeroes and ones\n",
    "zeros_tensor = torch.zeros(size=(3, 4))\n",
    "ones_tensor = torch.ones(size=(3, 4))\n",
    "\n",
    "# Range tensors\n",
    "zero_to_ten_tensor = torch.arange(start=0, end=10, step=1)\n",
    "print(zero_to_ten_tensor)\n",
    "\n",
    "# Copy with zeros\n",
    "ten_zeros_tensor = torch.zeros_like(input=zero_to_ten_tensor)\n",
    "print(ten_zeros_tensor)\n",
    "ten_zeros_tensor.device"
   ]
  },
  {
   "cell_type": "code",
   "execution_count": 10,
   "metadata": {},
   "outputs": [
    {
     "data": {
      "text/plain": [
       "'\\nGet informations from tensors:\\ntensor.shape\\ntensor.dtype\\ntensor.device\\n\\n'"
      ]
     },
     "execution_count": 10,
     "metadata": {},
     "output_type": "execute_result"
    }
   ],
   "source": [
    "\"\"\"\n",
    "Possible errors:\n",
    "\n",
    "Using two tensors that have different datatypes (float 16 and float 32)\n",
    "Using a different device (CPU or GPU)\n",
    "Using two tensors with different sizes\n",
    "\n",
    "\"\"\"\n",
    "\n",
    "\"\"\"\n",
    "Get informations from tensors:\n",
    "tensor.shape\n",
    "tensor.dtype\n",
    "tensor.device\n",
    "\n",
    "\"\"\"\n"
   ]
  },
  {
   "attachments": {},
   "cell_type": "markdown",
   "metadata": {},
   "source": [
    "## Basic operations"
   ]
  },
  {
   "cell_type": "code",
   "execution_count": 26,
   "metadata": {},
   "outputs": [
    {
     "name": "stdout",
     "output_type": "stream",
     "text": [
      "tensor([11, 12, 13])\n",
      "tensor([2, 4, 6])\n",
      "tensor([-4, -3, -2])\n",
      "tensor([0.5000, 1.0000, 1.5000])\n",
      "tensor([11, 12, 13])\n",
      "\n",
      "torch.int64\n",
      "torch.float16\n"
     ]
    }
   ],
   "source": [
    "tensor = torch.tensor([1, 2, 3])\n",
    "print(tensor + 10)\n",
    "print(tensor * 2)\n",
    "print(tensor - 5)\n",
    "print(tensor / 2)\n",
    "\n",
    "tensor = tensor + 10\n",
    "print(tensor)\n",
    "\n",
    "# Change data type\n",
    "print(f\"\\n{tensor.dtype}\")\n",
    "tensor = tensor.type(torch.float16)\n",
    "print(tensor.dtype)"
   ]
  },
  {
   "attachments": {},
   "cell_type": "markdown",
   "metadata": {},
   "source": [
    "#### Matrix mulitplication\n",
    "It's one of the most common operation in ml and dl. \n",
    "There are 2 rules for matrix multiplication:\n",
    "1. The inner dimensions must match:\n",
    "    - (3, 2) @ (3, 2) won't work\n",
    "    - (3, 2) @ (2, 3) will work\n",
    "    - (2, 3) @ (3, 2) will work\n",
    "2. The resulting matrix has the shape of the outer dimensions:\n",
    "    - (2, 3) @ (3, 2) -> (2, 2)\n",
    "    - (3, 2) @ (2, 3) -> (3, 3)\n",
    "\n",
    "| Operation | Calculation | Code |\n",
    "| --- | --- | --- |\n",
    "| Element-wise multiplication | [1\\*1, 2\\*2, 3\\*3] = [1, 4, 9] | tensor * tensor |\n",
    "| Matrix multiplication | [1\\*1 + 2\\*2 + 3\\*3] = [14] | tensor.matmul(tensor) |\n",
    "\n"
   ]
  },
  {
   "cell_type": "code",
   "execution_count": 13,
   "metadata": {},
   "outputs": [
    {
     "data": {
      "text/plain": [
       "tensor(21)"
      ]
     },
     "execution_count": 13,
     "metadata": {},
     "output_type": "execute_result"
    }
   ],
   "source": [
    "tensor1 = torch.tensor([1, 2, 3])\n",
    "tensor2 = torch.tensor([5, 8, 0])\n",
    "torch.matmul(tensor1, tensor2)"
   ]
  },
  {
   "cell_type": "code",
   "execution_count": 18,
   "metadata": {},
   "outputs": [
    {
     "data": {
      "text/plain": [
       "tensor([[ 27.,  30.,  33.],\n",
       "        [ 61.,  68.,  75.],\n",
       "        [ 95., 106., 117.]])"
      ]
     },
     "execution_count": 18,
     "metadata": {},
     "output_type": "execute_result"
    }
   ],
   "source": [
    "# This will raise an Exception\n",
    "# Shapes need to be in the right way  \n",
    "tensor_A = torch.tensor([[1, 2],\n",
    "                         [3, 4],\n",
    "                         [5, 6]], dtype=torch.float32)\n",
    "\n",
    "tensor_B = torch.tensor([[7, 10],\n",
    "                         [8, 11], \n",
    "                         [9, 12]], dtype=torch.float32)\n",
    "\n",
    "torch.mm(tensor_A, tensor_B) # (this will error)"
   ]
  },
  {
   "cell_type": "code",
   "execution_count": 16,
   "metadata": {},
   "outputs": [
    {
     "data": {
      "text/plain": [
       "tensor([[ 76., 103.],\n",
       "        [100., 136.]])"
      ]
     },
     "execution_count": 16,
     "metadata": {},
     "output_type": "execute_result"
    }
   ],
   "source": [
    "# To make it work, we need to transpose the tensor:\n",
    "final_tensor = torch.mm(tensor_A, tensor_B.T)\n",
    "final_tensor"
   ]
  },
  {
   "cell_type": "code",
   "execution_count": 28,
   "metadata": {},
   "outputs": [
    {
     "name": "stdout",
     "output_type": "stream",
     "text": [
      "Input shape: torch.Size([3, 2])\n",
      "Output shape: torch.Size([3, 3]), \n",
      "\n",
      "tensor([[1.3702, 1.5487, 0.7538],\n",
      "        [3.6252, 2.5165, 0.7293],\n",
      "        [5.8802, 3.4843, 0.7048]], grad_fn=<AddmmBackward0>)\n"
     ]
    }
   ],
   "source": [
    "torch.manual_seed(42)\n",
    "\n",
    "linear = torch.nn.Linear(in_features=2, out_features=3)\n",
    "x = torch.tensor(\n",
    "    [\n",
    "     [1, 2],\n",
    "     [3, 4],\n",
    "     [5, 6]\n",
    "    ],\n",
    "    dtype=torch.float32\n",
    ")\n",
    "\n",
    "output = linear(x)\n",
    "print(f\"Input shape: {x.shape}\")\n",
    "print(f\"Output shape: {output.shape}, \\n\\n{output}\")"
   ]
  },
  {
   "attachments": {},
   "cell_type": "markdown",
   "metadata": {},
   "source": [
    "##### Tensors reshaping\n",
    "\n",
    "| Method                         | One-line description                                                                                     |\n",
    "|--------------------------------|--------------------------------------------------------------------------------------------------------|\n",
    "| torch.reshape(input, shape)    | Reshapes input to shape (if compatible), can also use torch.Tensor.reshape().                           |\n",
    "| torch.Tensor.view(shape)       | Returns a view of the original tensor in a different shape but shares the same data as the original tensor.|\n",
    "| torch.stack(tensors, dim=0)    | Concatenates a sequence of tensors along a new dimension (dim), all tensors must be same size.            |\n",
    "| torch.squeeze(input)           | Squeezes input to remove all the dimensions with value 1.                                               |\n",
    "| torch.unsqueeze(input, dim)    | Returns input with a dimension value of 1 added at dim.                                                |\n",
    "| torch.permute(input, dims)     | Returns a view of the original input with its dimensions permuted (rearranged) to dims.                 |\n",
    "\n",
    "\n"
   ]
  },
  {
   "cell_type": "code",
   "execution_count": 30,
   "metadata": {},
   "outputs": [
    {
     "data": {
      "text/plain": [
       "(tensor([1., 2., 3., 4., 5., 6., 7.]), torch.Size([7]))"
      ]
     },
     "execution_count": 30,
     "metadata": {},
     "output_type": "execute_result"
    }
   ],
   "source": [
    "\n",
    "x = torch.arange(1., 8.)\n",
    "x, x.shape"
   ]
  },
  {
   "cell_type": "code",
   "execution_count": 31,
   "metadata": {},
   "outputs": [
    {
     "data": {
      "text/plain": [
       "(tensor([[1., 2., 3., 4., 5., 6., 7.]]), torch.Size([1, 7]))"
      ]
     },
     "execution_count": 31,
     "metadata": {},
     "output_type": "execute_result"
    }
   ],
   "source": [
    "x = x.reshape(1, 7)\n",
    "x, x.shape"
   ]
  },
  {
   "cell_type": "code",
   "execution_count": 33,
   "metadata": {},
   "outputs": [
    {
     "data": {
      "text/plain": [
       "(tensor([[99.,  2.,  3.,  4.,  5.,  6.,  7.]]),\n",
       " torch.Size([1, 7]),\n",
       " tensor([[99.,  2.,  3.,  4.,  5.,  6.,  7.]]),\n",
       " torch.Size([1, 7]))"
      ]
     },
     "execution_count": 33,
     "metadata": {},
     "output_type": "execute_result"
    }
   ],
   "source": [
    "z = x.view(1, 7) # changing the view modifies also the real tensor\n",
    "z[0, 0] = 99\n",
    "z, z.shape, x, x.shape\n"
   ]
  },
  {
   "cell_type": "code",
   "execution_count": 39,
   "metadata": {},
   "outputs": [
    {
     "data": {
      "text/plain": [
       "(tensor([[[99.,  2.,  3.,  4.,  5.,  6.,  7.],\n",
       "          [99.,  2.,  3.,  4.,  5.,  6.,  7.]]]),\n",
       " torch.Size([1, 2, 7]))"
      ]
     },
     "execution_count": 39,
     "metadata": {},
     "output_type": "execute_result"
    }
   ],
   "source": [
    "x_stacked = torch.stack([x, x], dim=1)\n",
    "x_stacked, x_stacked.shape"
   ]
  },
  {
   "cell_type": "code",
   "execution_count": 40,
   "metadata": {},
   "outputs": [
    {
     "data": {
      "text/plain": [
       "(torch.Size([1, 7]), torch.Size([7]))"
      ]
     },
     "execution_count": 40,
     "metadata": {},
     "output_type": "execute_result"
    }
   ],
   "source": [
    "# remove all single dimensions\n",
    "x_squeezed = x.squeeze()\n",
    "x.shape, x_squeezed.shape"
   ]
  },
  {
   "attachments": {},
   "cell_type": "markdown",
   "metadata": {},
   "source": [
    "### Use PyTorch on GPU"
   ]
  },
  {
   "cell_type": "code",
   "execution_count": 44,
   "metadata": {},
   "outputs": [
    {
     "data": {
      "text/plain": [
       "False"
      ]
     },
     "execution_count": 44,
     "metadata": {},
     "output_type": "execute_result"
    }
   ],
   "source": [
    "device = \"cuda\" if torch.cuda.is_available() else \"cpu\"\n",
    "tensor = torch.tensor([1, 2, 3], device=device)\n"
   ]
  },
  {
   "cell_type": "code",
   "execution_count": null,
   "metadata": {},
   "outputs": [],
   "source": []
  }
 ],
 "metadata": {
  "kernelspec": {
   "display_name": "Python 3",
   "language": "python",
   "name": "python3"
  },
  "language_info": {
   "codemirror_mode": {
    "name": "ipython",
    "version": 3
   },
   "file_extension": ".py",
   "mimetype": "text/x-python",
   "name": "python",
   "nbconvert_exporter": "python",
   "pygments_lexer": "ipython3",
   "version": "3.10.1"
  },
  "orig_nbformat": 4
 },
 "nbformat": 4,
 "nbformat_minor": 2
}
